{
 "cells": [
  {
   "cell_type": "code",
   "execution_count": null,
   "id": "6fcdac94-e76b-497a-b55c-4415a3a33179",
   "metadata": {},
   "outputs": [],
   "source": [
    "# load your libraries\n",
    "import numpy as np\n",
    "import pandas as pd\n",
    "import os"
   ]
  },
  {
   "cell_type": "code",
   "execution_count": null,
   "id": "7e1fe52e-0b92-48d3-8617-37caffc71d08",
   "metadata": {},
   "outputs": [],
   "source": [
    "# pull in the thresholds and species codes we'll be using here\n",
    "thresh = pd.read_csv('../data/thresholds_95_precision_full_test_set_with_label_weights_standard.csv')\n",
    "\n",
    "# critically, there are 216 columns in the predictions, but the first relates to bird1.\n",
    "# otherwise, the labels and this file are in the same order. make up some values\n",
    "# for bird1 and plug them in here. create a new row first\n",
    "new_row = pd.DataFrame({'species_code': ['bird1'], 'precision': [0.95], 'recall': [0.5], 'threshold': [0.95]})\n",
    "\n",
    "# insert as first row\n",
    "thresh = pd.concat([thresh.iloc[:0], new_row, thresh.iloc[0:]]).reset_index(drop=True)"
   ]
  },
  {
   "cell_type": "code",
   "execution_count": null,
   "id": "f33eae85-ba5c-4a10-b94d-1cdbc9cd12c3",
   "metadata": {},
   "outputs": [],
   "source": [
    "# define all the raw prediction output files from SWAMP\n",
    "inputDir = '../data/umich_swamp_aru_anaylsis/msid/predictions'\n",
    "theFiles = os.listdir(inputDir)\n",
    "\n",
    "# subset to npz files only\n",
    "theFiles = [s for s in theFiles if 'npz' in s]"
   ]
  },
  {
   "cell_type": "code",
   "execution_count": null,
   "id": "16de2856-cd7a-4c42-96be-51b71426177f",
   "metadata": {},
   "outputs": [],
   "source": [
    "# loop over all the files and save out the acoustic checklists\n",
    "for file in range(0, len(theFiles)):\n",
    "    singleFile = os.path.join(inputDir, theFiles[file])\n",
    "    data = np.load(singleFile)\n",
    "\n",
    "    # pull out the probs\n",
    "    probs = data['probs']\n",
    "\n",
    "    # grab the ARU asset ID info\n",
    "    asset_id = data['asset_ids'][0]\n",
    "\n",
    "    # loop over the species and determine whether a species \n",
    "    # is present or not at a given threshold. create a blank species\n",
    "    # vector here\n",
    "    speciesList = []\n",
    "\n",
    "    # loop over species here\n",
    "    for sp in range(0,thresh.shape[0]):\n",
    "        # pull the correct threshold here\n",
    "        #threshold = thresh['threshold'][sp]\n",
    "        threshold = 0.95\n",
    "        \n",
    "        if np.max(probs[:,sp]) > threshold:\n",
    "            speciesList.append(thresh['species_code'][sp])\n",
    "        else:\n",
    "            0\n",
    "\n",
    "    # save out the species list as a csv and give it a name corresponding to the ARU\n",
    "    outputDir = '/Volumes/eBirdData/swamp_aru_dataset/acoustic_checklists'\n",
    "    temp_filename = os.path.join(outputDir, asset_id + '.' + 'csv')\n",
    "    \n",
    "    spResults = pd.DataFrame(speciesList)\n",
    "    spResults.to_csv(temp_filename, index=False)\n",
    "\n",
    "    # close the data file\n",
    "    data.close()"
   ]
  },
  {
   "cell_type": "code",
   "execution_count": null,
   "id": "3ae0ca88-5039-4a47-b34f-06a0696f77bb",
   "metadata": {},
   "outputs": [],
   "source": [
    "inputDir = '../data/umich_swamp_aru_anaylsis/msid/predictions'\n",
    "np.load(os.path.join(inputDir, \"S1067SSW05_048K_S28_SWIFT11_20170512_120008Z.npz\"))"
   ]
  },
  {
   "cell_type": "code",
   "execution_count": 13,
   "id": "fb9d41ec",
   "metadata": {},
   "outputs": [],
   "source": [
    "import folium"
   ]
  },
  {
   "cell_type": "code",
   "execution_count": 12,
   "id": "a44934da",
   "metadata": {},
   "outputs": [
    {
     "ename": "ImportError",
     "evalue": "cannot import name 'JsCode' from 'folium.utilities' (/Users/jessiekb/opt/anaconda3/envs/yasa_seals/lib/python3.9/site-packages/folium/utilities.py)",
     "output_type": "error",
     "traceback": [
      "\u001b[0;31m---------------------------------------------------------------------------\u001b[0m",
      "\u001b[0;31mImportError\u001b[0m                               Traceback (most recent call last)",
      "Cell \u001b[0;32mIn[12], line 2\u001b[0m\n\u001b[1;32m      1\u001b[0m \u001b[38;5;28;01mimport\u001b[39;00m \u001b[38;5;21;01mfolium\u001b[39;00m\n\u001b[0;32m----> 2\u001b[0m \u001b[38;5;28;01mfrom\u001b[39;00m \u001b[38;5;21;01mfolium\u001b[39;00m\u001b[38;5;21;01m.\u001b[39;00m\u001b[38;5;21;01mutilities\u001b[39;00m \u001b[38;5;28;01mimport\u001b[39;00m JsCode\n\u001b[1;32m      3\u001b[0m \u001b[38;5;28;01mfrom\u001b[39;00m \u001b[38;5;21;01mfolium\u001b[39;00m\u001b[38;5;21;01m.\u001b[39;00m\u001b[38;5;21;01mfeatures\u001b[39;00m \u001b[38;5;28;01mimport\u001b[39;00m GeoJsonPopup\n\u001b[1;32m      4\u001b[0m \u001b[38;5;28;01mfrom\u001b[39;00m \u001b[38;5;21;01mfolium\u001b[39;00m\u001b[38;5;21;01m.\u001b[39;00m\u001b[38;5;21;01mplugins\u001b[39;00m\u001b[38;5;21;01m.\u001b[39;00m\u001b[38;5;21;01mtimeline\u001b[39;00m \u001b[38;5;28;01mimport\u001b[39;00m Timeline, TimelineSlider\n",
      "\u001b[0;31mImportError\u001b[0m: cannot import name 'JsCode' from 'folium.utilities' (/Users/jessiekb/opt/anaconda3/envs/yasa_seals/lib/python3.9/site-packages/folium/utilities.py)"
     ]
    }
   ],
   "source": []
  }
 ],
 "metadata": {
  "kernelspec": {
   "display_name": "Python 3 (ipykernel)",
   "language": "python",
   "name": "python3"
  },
  "language_info": {
   "codemirror_mode": {
    "name": "ipython",
    "version": 3
   },
   "file_extension": ".py",
   "mimetype": "text/x-python",
   "name": "python",
   "nbconvert_exporter": "python",
   "pygments_lexer": "ipython3",
   "version": "3.9.16"
  }
 },
 "nbformat": 4,
 "nbformat_minor": 5
}
